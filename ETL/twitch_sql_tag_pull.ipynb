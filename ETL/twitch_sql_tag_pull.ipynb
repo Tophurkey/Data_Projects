{
 "cells": [
  {
   "cell_type": "code",
   "execution_count": 1,
   "source": [
    "import pandas as pd\r\n",
    "from sqlalchemy import create_engine\r\n",
    "import psycopg2\r\n",
    "\r\n",
    "f = open('twitch_secrets.txt')\r\n",
    "secret_data = f.read()\r\n",
    "f.close()\r\n",
    "secret_data\r\n",
    "\r\n",
    "PGE_Secret = secret_data.split('\\n')[3]\r\n",
    "\r\n",
    "sql = \"\"\"\r\n",
    "    SELECT user_id, tag_ids FROM twitch_api_scrape\r\n",
    "    \"\"\"\r\n",
    "\r\n",
    "#INPUT YOUR OWN CONNECTION STRING HERE\r\n",
    "conn_string = 'postgresql://postgres:'+ PGE_Secret +'@192.168.1.21:5432/postgres'\r\n",
    "\r\n",
    "#perform to_sql test and print result\r\n",
    "db = create_engine(conn_string)\r\n",
    "conn = db.connect()\r\n",
    "\r\n",
    "#execute query\r\n",
    "pg_conn = psycopg2.connect(conn_string)\r\n",
    "cur = pg_conn.cursor()\r\n",
    "cur.execute(sql)\r\n",
    "tags = cur.fetchall()\r\n",
    "\r\n",
    "#Create a dataframe from the query results\r\n",
    "tags_df = pd.DataFrame(tags, columns=['user_id', 'tag_ids'])\r\n",
    "\r\n",
    "#Explode the tag_ids column into a list of tags\r\n",
    "tags_df['tag_ids_arr'] = tags_df['tag_ids'].str.strip('{}').str.split(',')\r\n",
    "tags_df_fin = tags_df.explode('tag_ids_arr').reset_index(drop=True)\r\n",
    "tags_df_fin = tags_df_fin.drop(columns=['tag_ids'])\r\n",
    "\r\n",
    "tags_df_fin.to_sql('twitch_tag_key', con=conn, if_exists='append', index=False)\r\n",
    "\r\n",
    "pg_conn.commit()\r\n",
    "cur.close()\r\n",
    "\r\n",
    "#close connection\r\n",
    "conn.close()"
   ],
   "outputs": [],
   "metadata": {}
  },
  {
   "cell_type": "code",
   "execution_count": null,
   "source": [],
   "outputs": [],
   "metadata": {}
  }
 ],
 "metadata": {
  "orig_nbformat": 4,
  "language_info": {
   "name": "python",
   "version": "3.9.6",
   "mimetype": "text/x-python",
   "codemirror_mode": {
    "name": "ipython",
    "version": 3
   },
   "pygments_lexer": "ipython3",
   "nbconvert_exporter": "python",
   "file_extension": ".py"
  },
  "kernelspec": {
   "name": "python3",
   "display_name": "Python 3.9.6 64-bit"
  },
  "interpreter": {
   "hash": "803f0df5af9aa793f907d2dc54914a94deb93a756c5cab8b247a163f148ca124"
  }
 },
 "nbformat": 4,
 "nbformat_minor": 2
}