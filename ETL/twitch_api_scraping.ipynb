{
 "cells": [
  {
   "cell_type": "code",
   "execution_count": 53,
   "metadata": {},
   "outputs": [],
   "source": [
    "import requests\n",
    "import pandas as pd\n",
    "from sqlalchemy import create_engine\n",
    "\n",
    "\n",
    "f = open('twitch_secrets.txt')\n",
    "secret_data = f.read()\n",
    "f.close()\n",
    "secret_data\n",
    "\n",
    "\n",
    "url = \"https://api.twitch.tv/helix/streams\"\n",
    "\n",
    "querystring = {\"game_id\":\"509670\",\"first\":\"100\",\"language\":\"en\"}\n",
    "\n",
    "Client_ID = secret_data.split('\\n')[0]\n",
    "Client_Secret = secret_data.split('\\n')[1]\n",
    "Oauth_Token = secret_data.split('\\n')[2]\n",
    "PGE_Secret = secret_data.split('\\n')[3]\n",
    "\n",
    "headers = {\n",
    "    'Client-ID' : Client_ID,\n",
    "    'Authorization' : 'Bearer ' + Oauth_Token\n",
    "    }\n",
    "\n",
    "response = requests.request(\"GET\", url, headers=headers, params=querystring)\n",
    "\n",
    "#print(response.text)"
   ]
  },
  {
   "cell_type": "code",
   "execution_count": 54,
   "metadata": {},
   "outputs": [],
   "source": [
    "json_streams = response.json()\n",
    "json_df = pd.DataFrame(json_streams['data'])"
   ]
  },
  {
   "cell_type": "code",
   "execution_count": 55,
   "metadata": {},
   "outputs": [],
   "source": [
    "json_df['date_scraped'] = pd.to_datetime('now')\n",
    "stream_df = json_df.drop(['thumbnail_url','title'], axis=1)"
   ]
  },
  {
   "cell_type": "code",
   "execution_count": 56,
   "metadata": {},
   "outputs": [],
   "source": [
    "#INPUT YOUR OWN CONNECTION STRING HERE\n",
    "conn_string = 'postgresql://postgres:'+ PGE_Secret +'@192.168.1.21:5432/postgres'\n",
    "\n",
    "#perform to_sql test and print result\n",
    "db = create_engine(conn_string)\n",
    "conn = db.connect()\n",
    "\n",
    "stream_df.to_sql('twitch_api_scrape', con=conn, if_exists='append', index=False)\n",
    "\n",
    "#close connection\n",
    "conn.close()"
   ]
  },
  {
   "cell_type": "code",
   "execution_count": null,
   "metadata": {},
   "outputs": [],
   "source": []
  }
 ],
 "metadata": {
  "interpreter": {
   "hash": "803f0df5af9aa793f907d2dc54914a94deb93a756c5cab8b247a163f148ca124"
  },
  "kernelspec": {
   "display_name": "Python 3.9.7 64-bit",
   "name": "python3"
  },
  "language_info": {
   "codemirror_mode": {
    "name": "ipython",
    "version": 3
   },
   "file_extension": ".py",
   "mimetype": "text/x-python",
   "name": "python",
   "nbconvert_exporter": "python",
   "pygments_lexer": "ipython3",
   "version": "3.9.7"
  },
  "orig_nbformat": 4
 },
 "nbformat": 4,
 "nbformat_minor": 2
}
