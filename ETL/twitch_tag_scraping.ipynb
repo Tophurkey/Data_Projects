{
 "cells": [
  {
   "cell_type": "code",
   "execution_count": null,
   "source": [
    "import requests\r\n",
    "import pandas as pd\r\n",
    "from sqlalchemy import create_engine\r\n",
    "\r\n",
    "\r\n",
    "f = open('twitch_secrets.txt')\r\n",
    "secret_data = f.read()\r\n",
    "f.close()\r\n",
    "secret_data\r\n",
    "\r\n",
    "\r\n",
    "url = \"https://api.twitch.tv/helix/tags/streams\"\r\n",
    "\r\n",
    "querystring = {string_of_tags}\r\n",
    "\r\n",
    "#must be a string in the form of \"tag_id\": \"number sequence from tag_id\" for each tag_id needed up to 100 per request.\r\n",
    "string_of_tags = ''\r\n",
    "\r\n",
    "Client_ID = secret_data.split('\\n')[0]\r\n",
    "Client_Secret = secret_data.split('\\n')[1]\r\n",
    "Oauth_Token = secret_data.split('\\n')[2]\r\n",
    "PGE_Secret = secret_data.split('\\n')[3]\r\n",
    "\r\n",
    "headers = {\r\n",
    "    'Client-ID' : Client_ID,\r\n",
    "    'Authorization' : 'Bearer ' + Oauth_Token\r\n",
    "    }\r\n",
    "\r\n",
    "response = requests.request(\"GET\", url, headers=headers, params=querystring)"
   ],
   "outputs": [],
   "metadata": {}
  },
  {
   "cell_type": "code",
   "execution_count": null,
   "source": [
    "json_streams = response.json()\r\n",
    "json_df = pd.DataFrame(json_streams['data'])\r\n",
    "\r\n",
    "json_df['date_scraped'] = pd.to_datetime('now')\r\n",
    "#stream_df = json_df.drop(['thumbnail_url','title'], axis=1)"
   ],
   "outputs": [],
   "metadata": {}
  },
  {
   "cell_type": "code",
   "execution_count": null,
   "source": [
    "'''\r\n",
    "\r\n",
    "#INPUT YOUR OWN CONNECTION STRING HERE\r\n",
    "conn_string = 'postgresql://postgres:'+ PGE_Secret +'@192.168.1.21:5432/postgres'\r\n",
    "\r\n",
    "#perform to_sql test and print result\r\n",
    "db = create_engine(conn_string)\r\n",
    "conn = db.connect()\r\n",
    "\r\n",
    "stream_df.to_sql('twitch_api_tags', con=conn, if_exists='append', index=False)\r\n",
    "\r\n",
    "#close connection\r\n",
    "conn.close()\r\n",
    "\r\n",
    "'''"
   ],
   "outputs": [],
   "metadata": {}
  }
 ],
 "metadata": {
  "orig_nbformat": 4,
  "language_info": {
   "name": "python"
  }
 },
 "nbformat": 4,
 "nbformat_minor": 2
}