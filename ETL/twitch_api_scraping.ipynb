{
 "cells": [
  {
   "cell_type": "code",
   "execution_count": 53,
   "source": [
    "import requests\r\n",
    "import pandas as pd\r\n",
    "from sqlalchemy import create_engine\r\n",
    "\r\n",
    "\r\n",
    "f = open('twitch_secrets.txt')\r\n",
    "secret_data = f.read()\r\n",
    "f.close()\r\n",
    "secret_data\r\n",
    "\r\n",
    "\r\n",
    "url = \"https://api.twitch.tv/helix/streams\"\r\n",
    "\r\n",
    "querystring = {\"game_id\":\"509670\",\"first\":\"100\",\"language\":\"en\"}\r\n",
    "\r\n",
    "Client_ID = secret_data.split('\\n')[0]\r\n",
    "Client_Secret = secret_data.split('\\n')[1]\r\n",
    "Oauth_Token = secret_data.split('\\n')[2]\r\n",
    "PGE_Secret = secret_data.split('\\n')[3]\r\n",
    "\r\n",
    "headers = {\r\n",
    "    'Client-ID' : Client_ID,\r\n",
    "    'Authorization' : 'Bearer ' + Oauth_Token\r\n",
    "    }\r\n",
    "\r\n",
    "response = requests.request(\"GET\", url, headers=headers, params=querystring)\r\n",
    "\r\n",
    "#print(response.text)"
   ],
   "outputs": [],
   "metadata": {}
  },
  {
   "cell_type": "code",
   "execution_count": 54,
   "source": [
    "json_streams = response.json()\r\n",
    "json_df = pd.DataFrame(json_streams['data'])"
   ],
   "outputs": [],
   "metadata": {}
  },
  {
   "cell_type": "code",
   "execution_count": 55,
   "source": [
    "json_df['date_scraped'] = pd.to_datetime('now')\r\n",
    "stream_df = json_df.drop(['thumbnail_url','title'], axis=1)"
   ],
   "outputs": [],
   "metadata": {}
  },
  {
   "cell_type": "code",
   "execution_count": 56,
   "source": [
    "#INPUT YOUR OWN CONNECTION STRING HERE\r\n",
    "conn_string = 'postgresql://postgres:'+ PGE_Secret +'@192.168.1.21:5432/postgres'\r\n",
    "\r\n",
    "#perform to_sql test and print result\r\n",
    "db = create_engine(conn_string)\r\n",
    "conn = db.connect()\r\n",
    "\r\n",
    "stream_df.to_sql('twitch_api_scrape', con=conn, if_exists='append', index=False)\r\n",
    "\r\n",
    "#close connection\r\n",
    "conn.close()"
   ],
   "outputs": [],
   "metadata": {}
  },
  {
   "cell_type": "code",
   "execution_count": null,
   "source": [],
   "outputs": [],
   "metadata": {}
  }
 ],
 "metadata": {
  "orig_nbformat": 4,
  "language_info": {
   "name": "python",
   "version": "3.9.6",
   "mimetype": "text/x-python",
   "codemirror_mode": {
    "name": "ipython",
    "version": 3
   },
   "pygments_lexer": "ipython3",
   "nbconvert_exporter": "python",
   "file_extension": ".py"
  },
  "kernelspec": {
   "name": "python3",
   "display_name": "Python 3.9.6 64-bit"
  },
  "interpreter": {
   "hash": "803f0df5af9aa793f907d2dc54914a94deb93a756c5cab8b247a163f148ca124"
  }
 },
 "nbformat": 4,
 "nbformat_minor": 2
}